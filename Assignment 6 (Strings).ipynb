{
 "cells": [
  {
   "cell_type": "code",
   "execution_count": null,
   "id": "0d710dda-c40b-4fc4-8c28-128af94d6256",
   "metadata": {},
   "outputs": [],
   "source": [
    "Question 1\n",
    "\n",
    "A permutation perm of n + 1 integers of all the integers in the range [0, n] can be represented as a string s of length n where:\n",
    "\n",
    "- s[i] == 'I' if perm[i] < perm[i + 1], and\n",
    "- s[i] == 'D' if perm[i] > perm[i + 1].\n",
    "\n",
    "Given a string s, reconstruct the permutation perm and return it. If there are multiple valid permutations perm, return any of them.\n",
    "\n",
    "Example 1:\n",
    "\n",
    "Input: s = \"IDID\"\n",
    "\n",
    "Output:\n",
    "\n",
    "[0,4,1,3,2]"
   ]
  },
  {
   "cell_type": "code",
   "execution_count": 3,
   "id": "a50ba6bb-f8e3-4e39-b29c-9eab9d7d2a42",
   "metadata": {},
   "outputs": [],
   "source": [
    "def reconstructPermutation(s):\n",
    "    perm = []\n",
    "    start, end = 0, len(s)\n",
    "\n",
    "    for c in s:\n",
    "        if c == 'I':\n",
    "            perm.append(start)\n",
    "            start += 1\n",
    "        else:\n",
    "            perm.append(end)\n",
    "            end -= 1\n",
    "\n",
    "    perm.append(start)\n",
    "    return perm"
   ]
  },
  {
   "cell_type": "code",
   "execution_count": 4,
   "id": "4a9af315-8f42-4cc6-8c54-42a302827f5d",
   "metadata": {},
   "outputs": [
    {
     "name": "stdout",
     "output_type": "stream",
     "text": [
      "[0, 4, 1, 3, 2]\n"
     ]
    }
   ],
   "source": [
    "s = \"IDID\"\n",
    "print(reconstructPermutation(s))"
   ]
  },
  {
   "cell_type": "code",
   "execution_count": null,
   "id": "9e703896-e4bd-45bb-80ad-60421789eef7",
   "metadata": {},
   "outputs": [],
   "source": [
    "Question 2\n",
    "\n",
    "You are given an m x n integer matrix matrix with the following two properties:\n",
    "\n",
    "- Each row is sorted in non-decreasing order.\n",
    "- The first integer of each row is greater than the last integer of the previous row.\n",
    "\n",
    "Given an integer target, return true if target is in matrix or false otherwise.\n",
    "\n",
    "You must write a solution in O(log(m * n)) time complexity.\n",
    "\n",
    "Example 1:\n",
    "    \n",
    "Input: matrix = [[1,3,5,7],[10,11,16,20],[23,30,34,60]], target = 3\n",
    "\n",
    "Output: true"
   ]
  },
  {
   "cell_type": "code",
   "execution_count": 5,
   "id": "710f82b3-6695-4502-80a4-5fc4ce06f2b4",
   "metadata": {},
   "outputs": [],
   "source": [
    "def searchMatrix(matrix, target):\n",
    "    if not matrix or not matrix[0]:\n",
    "        return False\n",
    "\n",
    "    m, n = len(matrix), len(matrix[0])\n",
    "    left, right = 0, m * n - 1\n",
    "\n",
    "    while left <= right:\n",
    "        mid = (left + right) // 2\n",
    "        num = matrix[mid // n][mid % n]\n",
    "        \n",
    "        if num == target:\n",
    "            return True\n",
    "        elif num < target:\n",
    "            left = mid + 1\n",
    "        else:\n",
    "            right = mid - 1\n",
    "\n",
    "    return False"
   ]
  },
  {
   "cell_type": "code",
   "execution_count": 6,
   "id": "ec674961-5706-4c5e-b416-aede2e986ad5",
   "metadata": {},
   "outputs": [
    {
     "name": "stdout",
     "output_type": "stream",
     "text": [
      "True\n"
     ]
    }
   ],
   "source": [
    "matrix = [[1, 3, 5, 7], [10, 11, 16, 20], [23, 30, 34, 60]]\n",
    "target = 3\n",
    "print(searchMatrix(matrix, target))"
   ]
  },
  {
   "cell_type": "code",
   "execution_count": null,
   "id": "a1506c8c-f689-47c1-a3d4-5dac2db7a9de",
   "metadata": {},
   "outputs": [],
   "source": [
    "Question 3\n",
    "\n",
    "Given an array of integers arr, return true if and only if it is a valid mountain array.\n",
    "\n",
    "Recall that arr is a mountain array if and only if:\n",
    "\n",
    "- arr.length >= 3\n",
    "- There exists some i with 0 < i < arr.length - 1 such that:\n",
    "    - arr[0] < arr[1] < ... < arr[i - 1] < arr[i]\n",
    "    - arr[i] > arr[i + 1] > ... > arr[arr.length - 1]\n",
    "\n",
    "Example 1:\n",
    "\n",
    "Input: arr = [2,1]\n",
    "\n",
    "Output:\n",
    "\n",
    "false"
   ]
  },
  {
   "cell_type": "code",
   "execution_count": 7,
   "id": "9ddff950-b59d-4f31-ac08-8f46c8b723a5",
   "metadata": {},
   "outputs": [],
   "source": [
    "def validMountainArray(arr):\n",
    "    n = len(arr)\n",
    "    if n < 3:\n",
    "        return False\n",
    "\n",
    "    i = 1\n",
    "    while i < n and arr[i] > arr[i - 1]:\n",
    "        i += 1\n",
    "\n",
    "    if i == 1 or i == n:\n",
    "        return False\n",
    "\n",
    "    while i < n and arr[i] < arr[i - 1]:\n",
    "        i += 1\n",
    "\n",
    "    return i == n"
   ]
  },
  {
   "cell_type": "code",
   "execution_count": 8,
   "id": "1413b254-605a-42cb-89d8-9d4166fa5b7f",
   "metadata": {},
   "outputs": [
    {
     "name": "stdout",
     "output_type": "stream",
     "text": [
      "False\n"
     ]
    }
   ],
   "source": [
    "arr = [2, 1]\n",
    "print(validMountainArray(arr))"
   ]
  },
  {
   "cell_type": "code",
   "execution_count": null,
   "id": "6b10b6e7-9b57-4d53-8625-41f680d95633",
   "metadata": {},
   "outputs": [],
   "source": [
    "Question 4\n",
    "\n",
    "Given a binary array nums, return the maximum length of a contiguous subarray with an equal number of 0 and 1.\n",
    "\n",
    "Example 1:\n",
    "\n",
    "Input: nums = [0,1]\n",
    "\n",
    "Output: 2\n",
    "\n",
    "Explanation:\n",
    "\n",
    "[0, 1] is the longest contiguous subarray with an equal number of 0 and 1."
   ]
  },
  {
   "cell_type": "code",
   "execution_count": 9,
   "id": "3de1811e-f0d6-44f7-83d9-6cecac3b88c4",
   "metadata": {},
   "outputs": [],
   "source": [
    "def findMaxLength(nums):\n",
    "    max_len = 0\n",
    "    count = 0\n",
    "    count_dict = {0: -1}\n",
    "\n",
    "    for i, num in enumerate(nums):\n",
    "        if num == 0:\n",
    "            count -= 1\n",
    "        else:\n",
    "            count += 1\n",
    "\n",
    "        if count in count_dict:\n",
    "            curr_len = i - count_dict[count]\n",
    "            max_len = max(max_len, curr_len)\n",
    "        else:\n",
    "            count_dict[count] = i\n",
    "\n",
    "    return max_len"
   ]
  },
  {
   "cell_type": "code",
   "execution_count": 10,
   "id": "7b63190a-72fa-43e5-b8df-543f4ab93477",
   "metadata": {},
   "outputs": [
    {
     "name": "stdout",
     "output_type": "stream",
     "text": [
      "2\n"
     ]
    }
   ],
   "source": [
    "nums = [0, 1]\n",
    "print(findMaxLength(nums))"
   ]
  },
  {
   "cell_type": "code",
   "execution_count": null,
   "id": "65ef4f63-9be3-4ed8-825a-40c22a863061",
   "metadata": {},
   "outputs": [],
   "source": [
    "Question 5\n",
    "\n",
    "The product sum of two equal-length arrays a and b is equal to the sum of a[i] * b[i] for all 0 <= i < a.length (0-indexed).\n",
    "\n",
    "- For example, if a = [1,2,3,4] and b = [5,2,3,1], the product sum would be 1*5 + 2*2 + 3*3 + 4*1 = 22.\n",
    "\n",
    "Given two arrays nums1 and nums2 of length n, return the minimum product sum if you are allowed to rearrange the order of the elements \n",
    "in nums1.\n",
    "\n",
    "Example 1:\n",
    "\n",
    "Input: nums1 = [5,3,4,2], nums2 = [4,2,2,5]\n",
    "\n",
    "Output: 40\n",
    "\n",
    "Explanation:\n",
    "\n",
    "We can rearrange nums1 to become [3,5,4,2]. The product sum of [3,5,4,2] and [4,2,2,5] is 3*4 + 5*2 + 4*2 + 2*5 = 40."
   ]
  },
  {
   "cell_type": "code",
   "execution_count": 11,
   "id": "5a0184d1-1aff-4166-b42e-d965c1c92b04",
   "metadata": {},
   "outputs": [],
   "source": [
    "def minProductSum(nums1, nums2):\n",
    "    nums1.sort()\n",
    "    nums2.sort(reverse=True)\n",
    "\n",
    "    min_product_sum = 0\n",
    "\n",
    "    for i in range(len(nums1)):\n",
    "        min_product_sum += nums1[i] * nums2[i]\n",
    "\n",
    "    return min_product_sum"
   ]
  },
  {
   "cell_type": "code",
   "execution_count": 12,
   "id": "e29d45f2-ef8b-4e21-9f13-47dba75f95df",
   "metadata": {},
   "outputs": [
    {
     "name": "stdout",
     "output_type": "stream",
     "text": [
      "40\n"
     ]
    }
   ],
   "source": [
    "nums1 = [5, 3, 4, 2]\n",
    "nums2 = [4, 2, 2, 5]\n",
    "print(minProductSum(nums1, nums2))"
   ]
  },
  {
   "cell_type": "code",
   "execution_count": null,
   "id": "cf713dbd-ae41-4711-ab3f-c27f0a5dc97f",
   "metadata": {},
   "outputs": [],
   "source": [
    "Question 6\n",
    "\n",
    "An integer array original is transformed into a doubled array changed by appending twice the value of every element in original, and \n",
    "then randomly shuffling the resulting array.\n",
    "\n",
    "Given an array changed, return original if changed is a doubled array. If changed is not a doubled array, return an empty array. \n",
    "The elements in* original *may be returned in any order.\n",
    "\n",
    "Example 1:\n",
    "\n",
    "Input: changed = [1,3,4,2,6,8]\n",
    "\n",
    "Output: [1,3,4]\n",
    "\n",
    "Explanation: One possible original array could be [1,3,4]:\n",
    "\n",
    "- Twice the value of 1 is 1 * 2 = 2.\n",
    "- Twice the value of 3 is 3 * 2 = 6.\n",
    "- Twice the value of 4 is 4 * 2 = 8.\n",
    "\n",
    "Other original arrays could be [4,3,1] or [3,1,4]."
   ]
  },
  {
   "cell_type": "code",
   "execution_count": 16,
   "id": "fa92bedd-541e-4542-b83e-eddf3339b616",
   "metadata": {},
   "outputs": [],
   "source": [
    "from collections import defaultdict\n",
    "\n",
    "def findOriginalArray(changed):\n",
    "    if len(changed) % 2 != 0:\n",
    "        return []\n",
    "\n",
    "    changed_counts = defaultdict(int)\n",
    "    for num in changed:\n",
    "        changed_counts[num] += 1\n",
    "\n",
    "    original = []\n",
    "    for num in changed:\n",
    "        if changed_counts[num] == 0:\n",
    "            continue\n",
    "        if changed_counts[num * 2] == 0:\n",
    "            return []\n",
    "        original.append(num)\n",
    "        changed_counts[num] -= 1\n",
    "        changed_counts[num * 2] -= 1\n",
    "\n",
    "    return original"
   ]
  },
  {
   "cell_type": "code",
   "execution_count": 17,
   "id": "3892316c-b5c8-4381-b60f-62ef9f4ed2fc",
   "metadata": {},
   "outputs": [
    {
     "name": "stdout",
     "output_type": "stream",
     "text": [
      "[1, 3, 4]\n"
     ]
    }
   ],
   "source": [
    "changed = [1, 3, 4, 2, 6, 8]\n",
    "print(findOriginalArray(changed))"
   ]
  },
  {
   "cell_type": "code",
   "execution_count": null,
   "id": "73dd5e61-caff-4097-a78a-7ba21ecfb80a",
   "metadata": {},
   "outputs": [],
   "source": [
    "Question 7\n",
    "\n",
    "Given a positive integer n, generate an n x n matrix filled with elements from 1 to n2 in spiral order.\n",
    "\n",
    "Example 1:\n",
    "\n",
    "Input: n = 3\n",
    "\n",
    "Output: [[1,2,3],[8,9,4],[7,6,5]]"
   ]
  },
  {
   "cell_type": "code",
   "execution_count": 18,
   "id": "1907f2dc-7ca7-4cc3-8d48-3dcdcdfc6970",
   "metadata": {},
   "outputs": [],
   "source": [
    "def generateMatrix(n):\n",
    "    matrix = [[0] * n for _ in range(n)]\n",
    "    top, bottom, left, right = 0, n - 1, 0, n - 1\n",
    "    num = 1\n",
    "\n",
    "    while num <= n * n:\n",
    "        for col in range(left, right + 1):\n",
    "            matrix[top][col] = num\n",
    "            num += 1\n",
    "        top += 1\n",
    "\n",
    "        for row in range(top, bottom + 1):\n",
    "            matrix[row][right] = num\n",
    "            num += 1\n",
    "        right -= 1\n",
    "\n",
    "        for col in range(right, left - 1, -1):\n",
    "            matrix[bottom][col] = num\n",
    "            num += 1\n",
    "        bottom -= 1\n",
    "\n",
    "        for row in range(bottom, top - 1, -1):\n",
    "            matrix[row][left] = num\n",
    "            num += 1\n",
    "        left += 1\n",
    "\n",
    "    return matrix"
   ]
  },
  {
   "cell_type": "code",
   "execution_count": 19,
   "id": "a466f408-37f1-4e69-89b3-724f3b1d93ca",
   "metadata": {},
   "outputs": [
    {
     "name": "stdout",
     "output_type": "stream",
     "text": [
      "[[1, 2, 3], [8, 9, 4], [7, 6, 5]]\n"
     ]
    }
   ],
   "source": [
    "n = 3\n",
    "print(generateMatrix(n))"
   ]
  },
  {
   "cell_type": "code",
   "execution_count": null,
   "id": "e1391032-2941-45db-9399-bb5085cb0df7",
   "metadata": {},
   "outputs": [],
   "source": [
    "<aside>\n",
    "💡 **Question 8**\n",
    "\n",
    "Given two [sparse matrices](https://en.wikipedia.org/wiki/Sparse_matrix) mat1 of size m x k and mat2 of size k x n, return the result of mat1 x mat2. You may assume that multiplication is always possible.\n",
    "\n",
    "**Example 1:**\n",
    "\n",
    "**Input:** mat1 = [[1,0,0],[-1,0,3]], mat2 = [[7,0,0],[0,0,0],[0,0,1]]\n",
    "\n",
    "**Output:\n",
    "\n",
    "[[7,0,0],[-7,0,3]]"
   ]
  }
 ],
 "metadata": {
  "kernelspec": {
   "display_name": "Python 3 (ipykernel)",
   "language": "python",
   "name": "python3"
  },
  "language_info": {
   "codemirror_mode": {
    "name": "ipython",
    "version": 3
   },
   "file_extension": ".py",
   "mimetype": "text/x-python",
   "name": "python",
   "nbconvert_exporter": "python",
   "pygments_lexer": "ipython3",
   "version": "3.10.8"
  }
 },
 "nbformat": 4,
 "nbformat_minor": 5
}
